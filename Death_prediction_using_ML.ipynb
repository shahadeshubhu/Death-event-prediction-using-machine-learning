{
  "nbformat": 4,
  "nbformat_minor": 0,
  "metadata": {
    "colab": {
      "name": "Death prediction using ML ",
      "provenance": [],
      "collapsed_sections": [
        "bEZ0o_7T2irC",
        "vTVQsG_F2ocX",
        "JygkKtFVIL1B",
        "hY6QBrVCIWYd",
        "u3ChcUVvIatU",
        "Bxf89Yn_ap4C",
        "Gq-VgKQhvOsy",
        "giRkvMH9sXvQ",
        "wC1Vlzo71hc9",
        "GULys0FY1u5U",
        "S9zsfzOy2QzY",
        "qPzAqNAv_mJF"
      ],
      "authorship_tag": "ABX9TyMrX9DcnKrNmSaFXh0OGRpe"
    },
    "kernelspec": {
      "name": "python3",
      "display_name": "Python 3"
    },
    "language_info": {
      "name": "python"
    }
  },
  "cells": [
    {
      "cell_type": "markdown",
      "metadata": {
        "id": "bEZ0o_7T2irC"
      },
      "source": [
        "# Preparing data for machine learning"
      ]
    },
    {
      "cell_type": "code",
      "metadata": {
        "id": "c4HxXxcPbxVe",
        "colab": {
          "base_uri": "https://localhost:8080/",
          "height": 439
        },
        "outputId": "50a7faf9-86dc-431f-f70e-dd6fba5ae33a"
      },
      "source": [
        "import pandas as pd\n",
        "import seaborn as sns\n",
        "import numpy as np\n",
        "import matplotlib.pyplot as plt\n",
        "from sklearn.model_selection import train_test_split\n",
        "from sklearn.model_selection import StratifiedShuffleSplit\n",
        "from sklearn.linear_model import LogisticRegression\n",
        "from sklearn.metrics import confusion_matrix, classification_report, accuracy_score\n",
        "from sklearn.model_selection import cross_val_score\n",
        "from sklearn import svm\n",
        "import sklearn as sk\n",
        "from sklearn.ensemble import RandomForestClassifier\n",
        "from sklearn.neural_network import MLPClassifier\n",
        "from sklearn.model_selection import GridSearchCV\n",
        "from sklearn.ensemble import RandomForestRegressor\n",
        "from sklearn.model_selection import RandomizedSearchCV\n",
        "from sklearn.model_selection import RepeatedStratifiedKFold\n",
        "from sklearn import metrics\n",
        "from sklearn.metrics import plot_roc_curve\n",
        "from sklearn.metrics import plot_confusion_matrix\n",
        "from sklearn.preprocessing import StandardScaler\n",
        "\n",
        "csv = \"https://www.sjsu.edu/people/wendy.lee/docs/CS185C02-Sp21/heart_disease_clinical_data.csv\"\n",
        "heart = pd.read_csv(csv)\n",
        "heart"
      ],
      "execution_count": null,
      "outputs": [
        {
          "output_type": "execute_result",
          "data": {
            "text/html": [
              "<div>\n",
              "<style scoped>\n",
              "    .dataframe tbody tr th:only-of-type {\n",
              "        vertical-align: middle;\n",
              "    }\n",
              "\n",
              "    .dataframe tbody tr th {\n",
              "        vertical-align: top;\n",
              "    }\n",
              "\n",
              "    .dataframe thead th {\n",
              "        text-align: right;\n",
              "    }\n",
              "</style>\n",
              "<table border=\"1\" class=\"dataframe\">\n",
              "  <thead>\n",
              "    <tr style=\"text-align: right;\">\n",
              "      <th></th>\n",
              "      <th>age</th>\n",
              "      <th>anaemia</th>\n",
              "      <th>creatinine_phosphokinase</th>\n",
              "      <th>diabetes</th>\n",
              "      <th>ejection_fraction</th>\n",
              "      <th>high_blood_pressure</th>\n",
              "      <th>platelets</th>\n",
              "      <th>serum_creatinine</th>\n",
              "      <th>serum_sodium</th>\n",
              "      <th>sex</th>\n",
              "      <th>smoking</th>\n",
              "      <th>time</th>\n",
              "      <th>DEATH_EVENT</th>\n",
              "    </tr>\n",
              "  </thead>\n",
              "  <tbody>\n",
              "    <tr>\n",
              "      <th>0</th>\n",
              "      <td>75.0</td>\n",
              "      <td>0</td>\n",
              "      <td>582</td>\n",
              "      <td>0</td>\n",
              "      <td>20</td>\n",
              "      <td>1</td>\n",
              "      <td>265000.00</td>\n",
              "      <td>1.9</td>\n",
              "      <td>130</td>\n",
              "      <td>1</td>\n",
              "      <td>0</td>\n",
              "      <td>4</td>\n",
              "      <td>1</td>\n",
              "    </tr>\n",
              "    <tr>\n",
              "      <th>1</th>\n",
              "      <td>55.0</td>\n",
              "      <td>0</td>\n",
              "      <td>7861</td>\n",
              "      <td>0</td>\n",
              "      <td>38</td>\n",
              "      <td>0</td>\n",
              "      <td>263358.03</td>\n",
              "      <td>1.1</td>\n",
              "      <td>136</td>\n",
              "      <td>1</td>\n",
              "      <td>0</td>\n",
              "      <td>6</td>\n",
              "      <td>1</td>\n",
              "    </tr>\n",
              "    <tr>\n",
              "      <th>2</th>\n",
              "      <td>65.0</td>\n",
              "      <td>0</td>\n",
              "      <td>146</td>\n",
              "      <td>0</td>\n",
              "      <td>20</td>\n",
              "      <td>0</td>\n",
              "      <td>162000.00</td>\n",
              "      <td>1.3</td>\n",
              "      <td>129</td>\n",
              "      <td>1</td>\n",
              "      <td>1</td>\n",
              "      <td>7</td>\n",
              "      <td>1</td>\n",
              "    </tr>\n",
              "    <tr>\n",
              "      <th>3</th>\n",
              "      <td>50.0</td>\n",
              "      <td>1</td>\n",
              "      <td>111</td>\n",
              "      <td>0</td>\n",
              "      <td>20</td>\n",
              "      <td>0</td>\n",
              "      <td>210000.00</td>\n",
              "      <td>1.9</td>\n",
              "      <td>137</td>\n",
              "      <td>1</td>\n",
              "      <td>0</td>\n",
              "      <td>7</td>\n",
              "      <td>1</td>\n",
              "    </tr>\n",
              "    <tr>\n",
              "      <th>4</th>\n",
              "      <td>65.0</td>\n",
              "      <td>1</td>\n",
              "      <td>160</td>\n",
              "      <td>1</td>\n",
              "      <td>20</td>\n",
              "      <td>0</td>\n",
              "      <td>327000.00</td>\n",
              "      <td>2.7</td>\n",
              "      <td>116</td>\n",
              "      <td>0</td>\n",
              "      <td>0</td>\n",
              "      <td>8</td>\n",
              "      <td>1</td>\n",
              "    </tr>\n",
              "    <tr>\n",
              "      <th>...</th>\n",
              "      <td>...</td>\n",
              "      <td>...</td>\n",
              "      <td>...</td>\n",
              "      <td>...</td>\n",
              "      <td>...</td>\n",
              "      <td>...</td>\n",
              "      <td>...</td>\n",
              "      <td>...</td>\n",
              "      <td>...</td>\n",
              "      <td>...</td>\n",
              "      <td>...</td>\n",
              "      <td>...</td>\n",
              "      <td>...</td>\n",
              "    </tr>\n",
              "    <tr>\n",
              "      <th>294</th>\n",
              "      <td>62.0</td>\n",
              "      <td>0</td>\n",
              "      <td>61</td>\n",
              "      <td>1</td>\n",
              "      <td>38</td>\n",
              "      <td>1</td>\n",
              "      <td>155000.00</td>\n",
              "      <td>1.1</td>\n",
              "      <td>143</td>\n",
              "      <td>1</td>\n",
              "      <td>1</td>\n",
              "      <td>270</td>\n",
              "      <td>0</td>\n",
              "    </tr>\n",
              "    <tr>\n",
              "      <th>295</th>\n",
              "      <td>55.0</td>\n",
              "      <td>0</td>\n",
              "      <td>1820</td>\n",
              "      <td>0</td>\n",
              "      <td>38</td>\n",
              "      <td>0</td>\n",
              "      <td>270000.00</td>\n",
              "      <td>1.2</td>\n",
              "      <td>139</td>\n",
              "      <td>0</td>\n",
              "      <td>0</td>\n",
              "      <td>271</td>\n",
              "      <td>0</td>\n",
              "    </tr>\n",
              "    <tr>\n",
              "      <th>296</th>\n",
              "      <td>45.0</td>\n",
              "      <td>0</td>\n",
              "      <td>2060</td>\n",
              "      <td>1</td>\n",
              "      <td>60</td>\n",
              "      <td>0</td>\n",
              "      <td>742000.00</td>\n",
              "      <td>0.8</td>\n",
              "      <td>138</td>\n",
              "      <td>0</td>\n",
              "      <td>0</td>\n",
              "      <td>278</td>\n",
              "      <td>0</td>\n",
              "    </tr>\n",
              "    <tr>\n",
              "      <th>297</th>\n",
              "      <td>45.0</td>\n",
              "      <td>0</td>\n",
              "      <td>2413</td>\n",
              "      <td>0</td>\n",
              "      <td>38</td>\n",
              "      <td>0</td>\n",
              "      <td>140000.00</td>\n",
              "      <td>1.4</td>\n",
              "      <td>140</td>\n",
              "      <td>1</td>\n",
              "      <td>1</td>\n",
              "      <td>280</td>\n",
              "      <td>0</td>\n",
              "    </tr>\n",
              "    <tr>\n",
              "      <th>298</th>\n",
              "      <td>50.0</td>\n",
              "      <td>0</td>\n",
              "      <td>196</td>\n",
              "      <td>0</td>\n",
              "      <td>45</td>\n",
              "      <td>0</td>\n",
              "      <td>395000.00</td>\n",
              "      <td>1.6</td>\n",
              "      <td>136</td>\n",
              "      <td>1</td>\n",
              "      <td>1</td>\n",
              "      <td>285</td>\n",
              "      <td>0</td>\n",
              "    </tr>\n",
              "  </tbody>\n",
              "</table>\n",
              "<p>299 rows × 13 columns</p>\n",
              "</div>"
            ],
            "text/plain": [
              "      age  anaemia  creatinine_phosphokinase  ...  smoking  time  DEATH_EVENT\n",
              "0    75.0        0                       582  ...        0     4            1\n",
              "1    55.0        0                      7861  ...        0     6            1\n",
              "2    65.0        0                       146  ...        1     7            1\n",
              "3    50.0        1                       111  ...        0     7            1\n",
              "4    65.0        1                       160  ...        0     8            1\n",
              "..    ...      ...                       ...  ...      ...   ...          ...\n",
              "294  62.0        0                        61  ...        1   270            0\n",
              "295  55.0        0                      1820  ...        0   271            0\n",
              "296  45.0        0                      2060  ...        0   278            0\n",
              "297  45.0        0                      2413  ...        1   280            0\n",
              "298  50.0        0                       196  ...        1   285            0\n",
              "\n",
              "[299 rows x 13 columns]"
            ]
          },
          "metadata": {
            "tags": []
          },
          "execution_count": 52
        }
      ]
    },
    {
      "cell_type": "markdown",
      "metadata": {
        "id": "XagHH0ZF20fH"
      },
      "source": [
        "We convert datatype of 'age' column into integer"
      ]
    },
    {
      "cell_type": "code",
      "metadata": {
        "colab": {
          "base_uri": "https://localhost:8080/"
        },
        "id": "ZteOVJih2ynl",
        "outputId": "32c2cc7f-b08a-4e94-c024-ef2e017a404f"
      },
      "source": [
        "heart['age'] = heart.age.astype(int)\n",
        "heart.info()"
      ],
      "execution_count": null,
      "outputs": [
        {
          "output_type": "stream",
          "text": [
            "<class 'pandas.core.frame.DataFrame'>\n",
            "RangeIndex: 299 entries, 0 to 298\n",
            "Data columns (total 13 columns):\n",
            " #   Column                    Non-Null Count  Dtype  \n",
            "---  ------                    --------------  -----  \n",
            " 0   age                       299 non-null    int64  \n",
            " 1   anaemia                   299 non-null    int64  \n",
            " 2   creatinine_phosphokinase  299 non-null    int64  \n",
            " 3   diabetes                  299 non-null    int64  \n",
            " 4   ejection_fraction         299 non-null    int64  \n",
            " 5   high_blood_pressure       299 non-null    int64  \n",
            " 6   platelets                 299 non-null    float64\n",
            " 7   serum_creatinine          299 non-null    float64\n",
            " 8   serum_sodium              299 non-null    int64  \n",
            " 9   sex                       299 non-null    int64  \n",
            " 10  smoking                   299 non-null    int64  \n",
            " 11  time                      299 non-null    int64  \n",
            " 12  DEATH_EVENT               299 non-null    int64  \n",
            "dtypes: float64(2), int64(11)\n",
            "memory usage: 30.5 KB\n"
          ],
          "name": "stdout"
        }
      ]
    },
    {
      "cell_type": "markdown",
      "metadata": {
        "id": "miTbUR59lsCs"
      },
      "source": [
        "We check the data for any null values or any zero values."
      ]
    },
    {
      "cell_type": "code",
      "metadata": {
        "colab": {
          "base_uri": "https://localhost:8080/"
        },
        "id": "q08TdmDgpogM",
        "outputId": "b2d1b5f6-6d2c-4faa-e59b-f7b70e7ded90"
      },
      "source": [
        "heart.isnull().values.any()\n",
        "(heart == 0).sum()"
      ],
      "execution_count": null,
      "outputs": [
        {
          "output_type": "execute_result",
          "data": {
            "text/plain": [
              "age                           0\n",
              "anaemia                     170\n",
              "creatinine_phosphokinase      0\n",
              "diabetes                    174\n",
              "ejection_fraction             0\n",
              "high_blood_pressure         194\n",
              "platelets                     0\n",
              "serum_creatinine              0\n",
              "serum_sodium                  0\n",
              "sex                         105\n",
              "smoking                     203\n",
              "time                          0\n",
              "DEATH_EVENT                 203\n",
              "dtype: int64"
            ]
          },
          "metadata": {
            "tags": []
          },
          "execution_count": 54
        }
      ]
    },
    {
      "cell_type": "code",
      "metadata": {
        "colab": {
          "base_uri": "https://localhost:8080/",
          "height": 317
        },
        "id": "alzJqf-rdc-L",
        "outputId": "3ff04a6c-9bac-4f98-81c1-eba024ec77cd"
      },
      "source": [
        "heart.describe()"
      ],
      "execution_count": null,
      "outputs": [
        {
          "output_type": "execute_result",
          "data": {
            "text/html": [
              "<div>\n",
              "<style scoped>\n",
              "    .dataframe tbody tr th:only-of-type {\n",
              "        vertical-align: middle;\n",
              "    }\n",
              "\n",
              "    .dataframe tbody tr th {\n",
              "        vertical-align: top;\n",
              "    }\n",
              "\n",
              "    .dataframe thead th {\n",
              "        text-align: right;\n",
              "    }\n",
              "</style>\n",
              "<table border=\"1\" class=\"dataframe\">\n",
              "  <thead>\n",
              "    <tr style=\"text-align: right;\">\n",
              "      <th></th>\n",
              "      <th>age</th>\n",
              "      <th>anaemia</th>\n",
              "      <th>creatinine_phosphokinase</th>\n",
              "      <th>diabetes</th>\n",
              "      <th>ejection_fraction</th>\n",
              "      <th>high_blood_pressure</th>\n",
              "      <th>platelets</th>\n",
              "      <th>serum_creatinine</th>\n",
              "      <th>serum_sodium</th>\n",
              "      <th>sex</th>\n",
              "      <th>smoking</th>\n",
              "      <th>time</th>\n",
              "      <th>DEATH_EVENT</th>\n",
              "    </tr>\n",
              "  </thead>\n",
              "  <tbody>\n",
              "    <tr>\n",
              "      <th>count</th>\n",
              "      <td>299.000000</td>\n",
              "      <td>299.000000</td>\n",
              "      <td>299.000000</td>\n",
              "      <td>299.000000</td>\n",
              "      <td>299.000000</td>\n",
              "      <td>299.000000</td>\n",
              "      <td>299.000000</td>\n",
              "      <td>299.00000</td>\n",
              "      <td>299.000000</td>\n",
              "      <td>299.000000</td>\n",
              "      <td>299.00000</td>\n",
              "      <td>299.000000</td>\n",
              "      <td>299.00000</td>\n",
              "    </tr>\n",
              "    <tr>\n",
              "      <th>mean</th>\n",
              "      <td>60.829431</td>\n",
              "      <td>0.431438</td>\n",
              "      <td>581.839465</td>\n",
              "      <td>0.418060</td>\n",
              "      <td>38.083612</td>\n",
              "      <td>0.351171</td>\n",
              "      <td>263358.029264</td>\n",
              "      <td>1.39388</td>\n",
              "      <td>136.625418</td>\n",
              "      <td>0.648829</td>\n",
              "      <td>0.32107</td>\n",
              "      <td>130.260870</td>\n",
              "      <td>0.32107</td>\n",
              "    </tr>\n",
              "    <tr>\n",
              "      <th>std</th>\n",
              "      <td>11.894997</td>\n",
              "      <td>0.496107</td>\n",
              "      <td>970.287881</td>\n",
              "      <td>0.494067</td>\n",
              "      <td>11.834841</td>\n",
              "      <td>0.478136</td>\n",
              "      <td>97804.236869</td>\n",
              "      <td>1.03451</td>\n",
              "      <td>4.412477</td>\n",
              "      <td>0.478136</td>\n",
              "      <td>0.46767</td>\n",
              "      <td>77.614208</td>\n",
              "      <td>0.46767</td>\n",
              "    </tr>\n",
              "    <tr>\n",
              "      <th>min</th>\n",
              "      <td>40.000000</td>\n",
              "      <td>0.000000</td>\n",
              "      <td>23.000000</td>\n",
              "      <td>0.000000</td>\n",
              "      <td>14.000000</td>\n",
              "      <td>0.000000</td>\n",
              "      <td>25100.000000</td>\n",
              "      <td>0.50000</td>\n",
              "      <td>113.000000</td>\n",
              "      <td>0.000000</td>\n",
              "      <td>0.00000</td>\n",
              "      <td>4.000000</td>\n",
              "      <td>0.00000</td>\n",
              "    </tr>\n",
              "    <tr>\n",
              "      <th>25%</th>\n",
              "      <td>51.000000</td>\n",
              "      <td>0.000000</td>\n",
              "      <td>116.500000</td>\n",
              "      <td>0.000000</td>\n",
              "      <td>30.000000</td>\n",
              "      <td>0.000000</td>\n",
              "      <td>212500.000000</td>\n",
              "      <td>0.90000</td>\n",
              "      <td>134.000000</td>\n",
              "      <td>0.000000</td>\n",
              "      <td>0.00000</td>\n",
              "      <td>73.000000</td>\n",
              "      <td>0.00000</td>\n",
              "    </tr>\n",
              "    <tr>\n",
              "      <th>50%</th>\n",
              "      <td>60.000000</td>\n",
              "      <td>0.000000</td>\n",
              "      <td>250.000000</td>\n",
              "      <td>0.000000</td>\n",
              "      <td>38.000000</td>\n",
              "      <td>0.000000</td>\n",
              "      <td>262000.000000</td>\n",
              "      <td>1.10000</td>\n",
              "      <td>137.000000</td>\n",
              "      <td>1.000000</td>\n",
              "      <td>0.00000</td>\n",
              "      <td>115.000000</td>\n",
              "      <td>0.00000</td>\n",
              "    </tr>\n",
              "    <tr>\n",
              "      <th>75%</th>\n",
              "      <td>70.000000</td>\n",
              "      <td>1.000000</td>\n",
              "      <td>582.000000</td>\n",
              "      <td>1.000000</td>\n",
              "      <td>45.000000</td>\n",
              "      <td>1.000000</td>\n",
              "      <td>303500.000000</td>\n",
              "      <td>1.40000</td>\n",
              "      <td>140.000000</td>\n",
              "      <td>1.000000</td>\n",
              "      <td>1.00000</td>\n",
              "      <td>203.000000</td>\n",
              "      <td>1.00000</td>\n",
              "    </tr>\n",
              "    <tr>\n",
              "      <th>max</th>\n",
              "      <td>95.000000</td>\n",
              "      <td>1.000000</td>\n",
              "      <td>7861.000000</td>\n",
              "      <td>1.000000</td>\n",
              "      <td>80.000000</td>\n",
              "      <td>1.000000</td>\n",
              "      <td>850000.000000</td>\n",
              "      <td>9.40000</td>\n",
              "      <td>148.000000</td>\n",
              "      <td>1.000000</td>\n",
              "      <td>1.00000</td>\n",
              "      <td>285.000000</td>\n",
              "      <td>1.00000</td>\n",
              "    </tr>\n",
              "  </tbody>\n",
              "</table>\n",
              "</div>"
            ],
            "text/plain": [
              "              age     anaemia  ...        time  DEATH_EVENT\n",
              "count  299.000000  299.000000  ...  299.000000    299.00000\n",
              "mean    60.829431    0.431438  ...  130.260870      0.32107\n",
              "std     11.894997    0.496107  ...   77.614208      0.46767\n",
              "min     40.000000    0.000000  ...    4.000000      0.00000\n",
              "25%     51.000000    0.000000  ...   73.000000      0.00000\n",
              "50%     60.000000    0.000000  ...  115.000000      0.00000\n",
              "75%     70.000000    1.000000  ...  203.000000      1.00000\n",
              "max     95.000000    1.000000  ...  285.000000      1.00000\n",
              "\n",
              "[8 rows x 13 columns]"
            ]
          },
          "metadata": {
            "tags": []
          },
          "execution_count": 55
        }
      ]
    },
    {
      "cell_type": "markdown",
      "metadata": {
        "id": "vTVQsG_F2ocX"
      },
      "source": [
        "# Data preprocessing, analysis and visualisation"
      ]
    },
    {
      "cell_type": "markdown",
      "metadata": {
        "id": "JygkKtFVIL1B"
      },
      "source": [
        "### **1.**"
      ]
    },
    {
      "cell_type": "code",
      "metadata": {
        "id": "-vRP5lxIErCo",
        "colab": {
          "base_uri": "https://localhost:8080/"
        },
        "outputId": "e2f82b7b-2aba-4e92-f133-e01a2c2108b2"
      },
      "source": [
        "lineplot = sns.lineplot(data = heart, x= \"DEATH_EVENT\", y = \"time\")\n",
        "lineplot.set_title('Relationship between time between follow up and death event')"
      ],
      "execution_count": null,
      "outputs": [
        {
          "output_type": "execute_result",
          "data": {
            "text/plain": [
              "Text(0.5, 1.0, 'Relationship between time between follow up and death event')"
            ]
          },
          "metadata": {
            "tags": []
          },
          "execution_count": 56
        },
        {
          "output_type": "display_data",
          "data": {
            "image/png": "[encoded data removed]",
            "text/plain": [
              "<Figure size 432x288 with 1 Axes>"
            ]
          },
          "metadata": {
            "tags": [],
            "needs_background": "light"
          }
        }
      ]
    },
    {
      "cell_type": "markdown",
      "metadata": {
        "id": "aLlOjCiingNA"
      },
      "source": [
        "We form a lineplot to find relation between time and death event. The lineplot shows that shorter the time between visits, the higher is the chance of a patient dying."
      ]
    },
    {
      "cell_type": "markdown",
      "metadata": {
        "id": "hY6QBrVCIWYd"
      },
      "source": [
        "### **2.**"
      ]
    },
    {
      "cell_type": "code",
      "metadata": {
        "colab": {
          "base_uri": "https://localhost:8080/",
          "height": 298
        },
        "id": "-LGFDnMwWIOt",
        "outputId": "97723e1b-36a4-4eeb-8634-7b4311615572"
      },
      "source": [
        "heart_deaths = heart[heart['DEATH_EVENT'] == 1]\n",
        "age_boxplot = heart_deaths.boxplot(column = ['age'])\n",
        "age_boxplot.set_title(\"Boxplot for ages of patients who died\")"
      ],
      "execution_count": null,
      "outputs": [
        {
          "output_type": "execute_result",
          "data": {
            "text/plain": [
              "Text(0.5, 1.0, 'Boxplot for ages of patients who died')"
            ]
          },
          "metadata": {
            "tags": []
          },
          "execution_count": 57
        },
        {
          "output_type": "display_data",
          "data": {
            "image/png": "[encoded data removed]",
            "text/plain": [
              "<Figure size 432x288 with 1 Axes>"
            ]
          },
          "metadata": {
            "tags": [],
            "needs_background": "light"
          }
        }
      ]
    },
    {
      "cell_type": "markdown",
      "metadata": {
        "id": "N0MCCGNBmyao"
      },
      "source": [
        "We create a boxplot to find the median and quartile ranges for people who died from heart diseases. From the boxplot it is evident that the people who died from heart failure were fairly older with a median age of around 65 "
      ]
    },
    {
      "cell_type": "code",
      "metadata": {
        "colab": {
          "base_uri": "https://localhost:8080/"
        },
        "id": "_B-wXngNxrGP",
        "outputId": "86b59e45-79d7-466c-ce86-b76328ed0abf"
      },
      "source": [
        "heart['age'].describe()"
      ],
      "execution_count": null,
      "outputs": [
        {
          "output_type": "execute_result",
          "data": {
            "text/plain": [
              "count    299.000000\n",
              "mean      60.829431\n",
              "std       11.894997\n",
              "min       40.000000\n",
              "25%       51.000000\n",
              "50%       60.000000\n",
              "75%       70.000000\n",
              "max       95.000000\n",
              "Name: age, dtype: float64"
            ]
          },
          "metadata": {
            "tags": []
          },
          "execution_count": 58
        }
      ]
    },
    {
      "cell_type": "code",
      "metadata": {
        "id": "-MCmOVQqhYFm",
        "colab": {
          "base_uri": "https://localhost:8080/",
          "height": 282
        },
        "outputId": "f59c1bec-9b99-4aab-d68c-838415ce5039"
      },
      "source": [
        "heart['age'].hist()"
      ],
      "execution_count": null,
      "outputs": [
        {
          "output_type": "execute_result",
          "data": {
            "text/plain": [
              "<matplotlib.axes._subplots.AxesSubplot at 0x7ff09082ec10>"
            ]
          },
          "metadata": {
            "tags": []
          },
          "execution_count": 59
        },
        {
          "output_type": "display_data",
          "data": {
            "image/png": "[encoded data removed]",
            "text/plain": [
              "<Figure size 432x288 with 1 Axes>"
            ]
          },
          "metadata": {
            "tags": [],
            "needs_background": "light"
          }
        }
      ]
    },
    {
      "cell_type": "markdown",
      "metadata": {
        "id": "aHaBbdNfwFp6"
      },
      "source": [
        "Since mean, lower and upper quartiles are really close together and most of the people who died were around median age, we try to preprocess age column by removing some outliers. Here we chop of 2% of the data"
      ]
    },
    {
      "cell_type": "code",
      "metadata": {
        "colab": {
          "base_uri": "https://localhost:8080/",
          "height": 418
        },
        "id": "LJzjbQwLhd5d",
        "outputId": "ae6d2f3e-fdd2-4a1d-9248-81a8fb4e9f96"
      },
      "source": [
        "x = heart['age']\n",
        "UPPERBOUND, LOWERBOUND = np.percentile(x, [2,98])\n",
        "heart['age'] = np.clip(x, UPPERBOUND, LOWERBOUND)\n",
        "heart['age'].hist()\n",
        "heart['age'].describe()"
      ],
      "execution_count": null,
      "outputs": [
        {
          "output_type": "execute_result",
          "data": {
            "text/plain": [
              "count    299.000000\n",
              "mean      60.724816\n",
              "std       11.631923\n",
              "min       40.000000\n",
              "25%       51.000000\n",
              "50%       60.000000\n",
              "75%       70.000000\n",
              "max       87.120000\n",
              "Name: age, dtype: float64"
            ]
          },
          "metadata": {
            "tags": []
          },
          "execution_count": 60
        },
        {
          "output_type": "display_data",
          "data": {
            "image/png": "[encoded data removed]",
            "text/plain": [
              "<Figure size 432x288 with 1 Axes>"
            ]
          },
          "metadata": {
            "tags": [],
            "needs_background": "light"
          }
        }
      ]
    },
    {
      "cell_type": "markdown",
      "metadata": {
        "id": "u3ChcUVvIatU"
      },
      "source": [
        "### **3.**"
      ]
    },
    {
      "cell_type": "code",
      "metadata": {
        "colab": {
          "base_uri": "https://localhost:8080/",
          "height": 313
        },
        "id": "iLqdgYlau-lN",
        "outputId": "73aaf812-41fb-43e4-bb48-37110840fef1"
      },
      "source": [
        " scatterplot = sns.scatterplot(data=heart, x=\"ejection_fraction\", y=\"serum_creatinine\", hue=\"DEATH_EVENT\", size = \"age\")\n",
        "scatterplot.set_title(\"Scatterplot showing relation between ejection fraction and serum creatinine for different age groups\")"
      ],
      "execution_count": null,
      "outputs": [
        {
          "output_type": "execute_result",
          "data": {
            "text/plain": [
              "Text(0.5, 1.0, 'Scatterplot showing relation between ejection fraction and serum creatinine for different age groups')"
            ]
          },
          "metadata": {
            "tags": []
          },
          "execution_count": 61
        },
        {
          "output_type": "display_data",
          "data": {
            "image/png": "[encoded data removed]",
            "text/plain": [
              "<Figure size 432x288 with 1 Axes>"
            ]
          },
          "metadata": {
            "tags": [],
            "needs_background": "light"
          }
        }
      ]
    },
    {
      "cell_type": "markdown",
      "metadata": {
        "id": "oG-ZSK4tpbwW"
      },
      "source": [
        "From the scatterplot we learn that patients with low levels of ejection fraction and serum creatinine were very likely to die regardless of the age group they belonged to. Patients with a very higher levels of serum creatinine (above 2) were much more likely to die as well."
      ]
    },
    {
      "cell_type": "markdown",
      "metadata": {
        "id": "Bxf89Yn_ap4C"
      },
      "source": [
        "### **4.**"
      ]
    },
    {
      "cell_type": "code",
      "metadata": {
        "colab": {
          "base_uri": "https://localhost:8080/",
          "height": 688
        },
        "id": "yNCWtwd7Ip2Z",
        "outputId": "2e555aeb-b32d-4a9b-8e47-d06570e06b8b"
      },
      "source": [
        "ailments_all = heart[['anaemia', 'diabetes','high_blood_pressure','DEATH_EVENT']]\n",
        "ailments = ailments_all[ailments_all['DEATH_EVENT']== 1]\n",
        "\n",
        "anaemia = ailments[(ailments['anaemia']== 1) & (ailments['diabetes']==0) & (ailments['high_blood_pressure']== 0)]\n",
        "anaemia_count = len(anaemia.index)\n",
        "\n",
        "diabetes = ailments[(ailments['anaemia']== 0) & (ailments['diabetes']==1) & (ailments['high_blood_pressure']== 0)]\n",
        "diabetes_count = len(diabetes.index)\n",
        "\n",
        "highbp = ailments[(ailments['anaemia']== 0) & (ailments['diabetes']==0) & (ailments['high_blood_pressure']== 1)]\n",
        "highbp_count = len(highbp.index)\n",
        "\n",
        "anaemia_and_diabetes = ailments[(ailments['anaemia']== 1) & (ailments['diabetes']==1) & (ailments['high_blood_pressure']== 0)]\n",
        "anaemia_and_diabetes_count = len(anaemia_and_diabetes.index)\n",
        "\n",
        "anaemia_and_highbp = ailments[(ailments['anaemia']== 1) & (ailments['diabetes']==0) & (ailments['high_blood_pressure']== 1)]\n",
        "anaemia_and_highbp_count = len(anaemia_and_highbp.index)\n",
        "\n",
        "diabetes_and_highbp = ailments[(ailments['anaemia']== 0) & (ailments['diabetes']==1) & (ailments['high_blood_pressure']== 1)]\n",
        "diabetes_and_highbp_count = len(diabetes_and_highbp.index)\n",
        "\n",
        "all_ailments = ailments[(ailments['anaemia']== 1) & (ailments['diabetes']==1) & (ailments['high_blood_pressure']== 1)]\n",
        "all_ailments_count = len(all_ailments.index)\n",
        "\n",
        "none_ailments = ailments[(ailments['anaemia']== 0) & (ailments['diabetes']==0) & (ailments['high_blood_pressure']== 0)]\n",
        "none_ailments_count = len(none_ailments.index)\n",
        "\n",
        "data =[['Anaemia', anaemia_count], ['Diabetes', diabetes_count],['High blood pressure', highbp_count],\n",
        "     ['Anaemia & diabetes', anaemia_and_diabetes_count],['Anaemia and high blood pressure', anaemia_and_highbp_count], \n",
        "     ['Diabetes and high blood pressure', diabetes_and_highbp_count], ['All', all_ailments_count], ['None', none_ailments_count]]\n",
        "df = pd.DataFrame(data, columns=['Ailment','count'])\n",
        "bargraph = df.plot.bar(y = 'count',x = 'Ailment', \n",
        "                       color=['lavender', 'blue', 'green', 'yellow', 'orange', 'pink', 'black', 'red'], \n",
        "                       figsize = (9,8), legend= False)\n",
        "bargraph.set_title('Bar plot showing count of patients suffering from ailments prior to death')"
      ],
      "execution_count": null,
      "outputs": [
        {
          "output_type": "execute_result",
          "data": {
            "text/plain": [
              "Text(0.5, 1.0, 'Bar plot showing count of patients suffering from ailments prior to death')"
            ]
          },
          "metadata": {
            "tags": []
          },
          "execution_count": 62
        },
        {
          "output_type": "display_data",
          "data": {
            "image/png": "[encoded data removed]",
            "text/plain": [
              "<Figure size 648x576 with 1 Axes>"
            ]
          },
          "metadata": {
            "tags": [],
            "needs_background": "light"
          }
        }
      ]
    },
    {
      "cell_type": "markdown",
      "metadata": {
        "id": "DrHVx6ULvyQl"
      },
      "source": [
        "Bar plot shows that despite majority of the people who died from heart diesease had some sort of ailment, there was higher number of deaths among people who didn't suffer from any ailment.\n",
        "We can argue that ailments like anaemia, diabetes and high blood pressure aren't really that big of a factors for causing death."
      ]
    },
    {
      "cell_type": "code",
      "metadata": {
        "colab": {
          "base_uri": "https://localhost:8080/",
          "height": 390
        },
        "id": "E3G4juromKeA",
        "outputId": "f7630b7c-644f-47da-840e-0f97c5c3e107"
      },
      "source": [
        "hist = ailments.drop(columns= 'DEATH_EVENT').hist(figsize= (8,6))"
      ],
      "execution_count": null,
      "outputs": [
        {
          "output_type": "display_data",
          "data": {
            "image/png": "[encoded data removed]",
            "text/plain": [
              "<Figure size 576x432 with 4 Axes>"
            ]
          },
          "metadata": {
            "tags": [],
            "needs_background": "light"
          }
        }
      ]
    },
    {
      "cell_type": "markdown",
      "metadata": {
        "id": "NkMDyu9e5um9"
      },
      "source": [
        "From the histogram we can see that there isn't ailments like anaemia, diabetes and high blood pressure didn't really cause the death of a heart patient as much as we'd expect. We learn and conclude that ailments aren't the biggest factors in causing death."
      ]
    },
    {
      "cell_type": "markdown",
      "metadata": {
        "id": "Gq-VgKQhvOsy"
      },
      "source": [
        "### **5.**"
      ]
    },
    {
      "cell_type": "markdown",
      "metadata": {
        "id": "fE-p4la8mA-s"
      },
      "source": [
        "Finding correlation between death event and other factors"
      ]
    },
    {
      "cell_type": "code",
      "metadata": {
        "colab": {
          "base_uri": "https://localhost:8080/"
        },
        "id": "G4Skmx2fl-c4",
        "outputId": "71cb3e80-0617-4c6f-bc48-4e3ade18d969"
      },
      "source": [
        "corr_matrix = heart.corr()\n",
        "corr_matrix[\"DEATH_EVENT\"].sort_values(ascending=False)"
      ],
      "execution_count": null,
      "outputs": [
        {
          "output_type": "execute_result",
          "data": {
            "text/plain": [
              "DEATH_EVENT                 1.000000\n",
              "serum_creatinine            0.294278\n",
              "age                         0.247992\n",
              "high_blood_pressure         0.079351\n",
              "anaemia                     0.066270\n",
              "creatinine_phosphokinase    0.062728\n",
              "diabetes                   -0.001943\n",
              "sex                        -0.004316\n",
              "smoking                    -0.012623\n",
              "platelets                  -0.049139\n",
              "serum_sodium               -0.195204\n",
              "ejection_fraction          -0.268603\n",
              "time                       -0.526964\n",
              "Name: DEATH_EVENT, dtype: float64"
            ]
          },
          "metadata": {
            "tags": []
          },
          "execution_count": 64
        }
      ]
    },
    {
      "cell_type": "code",
      "metadata": {
        "colab": {
          "base_uri": "https://localhost:8080/",
          "height": 692
        },
        "id": "ZMxdbu6WxCDD",
        "outputId": "1ee9c110-5ebd-4bc0-f85b-5ea5e802d14e"
      },
      "source": [
        "plt.figure(figsize = (10,9))\n",
        "heatmap = sns.heatmap(corr_matrix, linewidths= 0.5, linecolor= 'white', annot=True, cmap=\"YlGnBu\")\n",
        "heatmap.set_title('Heatmap of correlation matrix of our data', fontsize= 16)"
      ],
      "execution_count": null,
      "outputs": [
        {
          "output_type": "execute_result",
          "data": {
            "text/plain": [
              "Text(0.5, 1.0, 'Heatmap of correlation matrix of our data')"
            ]
          },
          "metadata": {
            "tags": []
          },
          "execution_count": 65
        },
        {
          "output_type": "display_data",
          "data": {
            "image/png": "[encoded data removed]",
            "text/plain": [
              "<Figure size 720x648 with 2 Axes>"
            ]
          },
          "metadata": {
            "tags": [],
            "needs_background": "light"
          }
        }
      ]
    },
    {
      "cell_type": "markdown",
      "metadata": {
        "id": "Q7B16wlTRu8H"
      },
      "source": [
        "Heatmap helps us to put a lot of things into perspective. We can see that age, ejection fraction, serum creatinine and time between follow up to the doctor are the most important factors in determining death of a heart patient."
      ]
    },
    {
      "cell_type": "markdown",
      "metadata": {
        "id": "giRkvMH9sXvQ"
      },
      "source": [
        "### **6.**"
      ]
    },
    {
      "cell_type": "markdown",
      "metadata": {
        "id": "YsAvnxo5x2bz"
      },
      "source": [
        "We now try to scale the numerical data of columns having a huge difference between their minimum and maximum values. We use standard scaling for serumcreatinine levels, platelet count and ejection fraction"
      ]
    },
    {
      "cell_type": "code",
      "metadata": {
        "colab": {
          "base_uri": "https://localhost:8080/",
          "height": 224
        },
        "id": "ja_AUCG-nJPj",
        "outputId": "07be6478-8ea8-4228-f060-ac2851d5b8e4"
      },
      "source": [
        "heart['serum_creatinine'] = StandardScaler().fit_transform(heart['serum_creatinine'].values.reshape(-1,1))\n",
        "heart['platelets'] = StandardScaler().fit_transform(heart['platelets'].values.reshape(-1,1))\n",
        "heart['ejection_fraction'] = StandardScaler().fit_transform(heart['ejection_fraction'].values.reshape(-1,1))\n",
        "heart.head()"
      ],
      "execution_count": null,
      "outputs": [
        {
          "output_type": "execute_result",
          "data": {
            "text/html": [
              "<div>\n",
              "<style scoped>\n",
              "    .dataframe tbody tr th:only-of-type {\n",
              "        vertical-align: middle;\n",
              "    }\n",
              "\n",
              "    .dataframe tbody tr th {\n",
              "        vertical-align: top;\n",
              "    }\n",
              "\n",
              "    .dataframe thead th {\n",
              "        text-align: right;\n",
              "    }\n",
              "</style>\n",
              "<table border=\"1\" class=\"dataframe\">\n",
              "  <thead>\n",
              "    <tr style=\"text-align: right;\">\n",
              "      <th></th>\n",
              "      <th>age</th>\n",
              "      <th>anaemia</th>\n",
              "      <th>creatinine_phosphokinase</th>\n",
              "      <th>diabetes</th>\n",
              "      <th>ejection_fraction</th>\n",
              "      <th>high_blood_pressure</th>\n",
              "      <th>platelets</th>\n",
              "      <th>serum_creatinine</th>\n",
              "      <th>serum_sodium</th>\n",
              "      <th>sex</th>\n",
              "      <th>smoking</th>\n",
              "      <th>time</th>\n",
              "      <th>DEATH_EVENT</th>\n",
              "    </tr>\n",
              "  </thead>\n",
              "  <tbody>\n",
              "    <tr>\n",
              "      <th>0</th>\n",
              "      <td>75.0</td>\n",
              "      <td>0</td>\n",
              "      <td>582</td>\n",
              "      <td>0</td>\n",
              "      <td>-1.530560</td>\n",
              "      <td>1</td>\n",
              "      <td>1.681648e-02</td>\n",
              "      <td>0.490057</td>\n",
              "      <td>130</td>\n",
              "      <td>1</td>\n",
              "      <td>0</td>\n",
              "      <td>4</td>\n",
              "      <td>1</td>\n",
              "    </tr>\n",
              "    <tr>\n",
              "      <th>1</th>\n",
              "      <td>55.0</td>\n",
              "      <td>0</td>\n",
              "      <td>7861</td>\n",
              "      <td>0</td>\n",
              "      <td>-0.007077</td>\n",
              "      <td>0</td>\n",
              "      <td>7.535660e-09</td>\n",
              "      <td>-0.284552</td>\n",
              "      <td>136</td>\n",
              "      <td>1</td>\n",
              "      <td>0</td>\n",
              "      <td>6</td>\n",
              "      <td>1</td>\n",
              "    </tr>\n",
              "    <tr>\n",
              "      <th>2</th>\n",
              "      <td>65.0</td>\n",
              "      <td>0</td>\n",
              "      <td>146</td>\n",
              "      <td>0</td>\n",
              "      <td>-1.530560</td>\n",
              "      <td>0</td>\n",
              "      <td>-1.038073e+00</td>\n",
              "      <td>-0.090900</td>\n",
              "      <td>129</td>\n",
              "      <td>1</td>\n",
              "      <td>1</td>\n",
              "      <td>7</td>\n",
              "      <td>1</td>\n",
              "    </tr>\n",
              "    <tr>\n",
              "      <th>3</th>\n",
              "      <td>50.0</td>\n",
              "      <td>1</td>\n",
              "      <td>111</td>\n",
              "      <td>0</td>\n",
              "      <td>-1.530560</td>\n",
              "      <td>0</td>\n",
              "      <td>-5.464741e-01</td>\n",
              "      <td>0.490057</td>\n",
              "      <td>137</td>\n",
              "      <td>1</td>\n",
              "      <td>0</td>\n",
              "      <td>7</td>\n",
              "      <td>1</td>\n",
              "    </tr>\n",
              "    <tr>\n",
              "      <th>4</th>\n",
              "      <td>65.0</td>\n",
              "      <td>1</td>\n",
              "      <td>160</td>\n",
              "      <td>1</td>\n",
              "      <td>-1.530560</td>\n",
              "      <td>0</td>\n",
              "      <td>6.517986e-01</td>\n",
              "      <td>1.264666</td>\n",
              "      <td>116</td>\n",
              "      <td>0</td>\n",
              "      <td>0</td>\n",
              "      <td>8</td>\n",
              "      <td>1</td>\n",
              "    </tr>\n",
              "  </tbody>\n",
              "</table>\n",
              "</div>"
            ],
            "text/plain": [
              "    age  anaemia  creatinine_phosphokinase  ...  smoking  time  DEATH_EVENT\n",
              "0  75.0        0                       582  ...        0     4            1\n",
              "1  55.0        0                      7861  ...        0     6            1\n",
              "2  65.0        0                       146  ...        1     7            1\n",
              "3  50.0        1                       111  ...        0     7            1\n",
              "4  65.0        1                       160  ...        0     8            1\n",
              "\n",
              "[5 rows x 13 columns]"
            ]
          },
          "metadata": {
            "tags": []
          },
          "execution_count": 66
        }
      ]
    },
    {
      "cell_type": "markdown",
      "metadata": {
        "id": "iJagTs5szkF4"
      },
      "source": [
        "**Data has been preprocessed and analysed using visualisation plots and is ready to be used for training and testing**"
      ]
    },
    {
      "cell_type": "markdown",
      "metadata": {
        "id": "wC1Vlzo71hc9"
      },
      "source": [
        "#Divide the data for training and testing purposes."
      ]
    },
    {
      "cell_type": "code",
      "metadata": {
        "id": "IeQ4Ml8_j3d_"
      },
      "source": [
        "X = heart.drop(['DEATH_EVENT'], axis=1)\n",
        "y = heart['DEATH_EVENT']\n",
        "X_train, X_test, y_train, y_test = train_test_split(X, y, test_size=0.2, random_state=42)"
      ],
      "execution_count": null,
      "outputs": []
    },
    {
      "cell_type": "markdown",
      "metadata": {
        "id": "GULys0FY1u5U"
      },
      "source": [
        "# Training and evaluation of different ML classifiers"
      ]
    },
    {
      "cell_type": "markdown",
      "metadata": {
        "id": "0CXx44DK19HM"
      },
      "source": [
        "**1.** **Logistic Regression**"
      ]
    },
    {
      "cell_type": "code",
      "metadata": {
        "colab": {
          "base_uri": "https://localhost:8080/"
        },
        "id": "1sbx-L-yd5UR",
        "outputId": "24864191-12e7-4076-d477-6e957ab40041"
      },
      "source": [
        "logreg = LogisticRegression(max_iter= 1000)\n",
        "clf = logreg.fit(X_train, y_train)\n",
        "scores = cross_val_score(clf, X_train, y_train, cv= 10)\n",
        "y_pred = logreg.predict(X_test)\n",
        "print(\"Logistic regression accuracy: %0.4f (+/- %0.4f)\" % (scores.mean(), scores.std()*2))"
      ],
      "execution_count": null,
      "outputs": [
        {
          "output_type": "stream",
          "text": [
            "Logistic regression accuracy: 0.8279 (+/- 0.1840)\n"
          ],
          "name": "stdout"
        }
      ]
    },
    {
      "cell_type": "markdown",
      "metadata": {
        "id": "fIhQjKAc2Etc"
      },
      "source": [
        "**2.** **Random Forest Classifier**"
      ]
    },
    {
      "cell_type": "code",
      "metadata": {
        "colab": {
          "base_uri": "https://localhost:8080/"
        },
        "id": "XppGlZei2P8Y",
        "outputId": "107e486b-d148-4faa-d335-d8b0ed04f478"
      },
      "source": [
        "RF = RandomForestClassifier(max_depth=2).fit(X_train, y_train)\n",
        "scores = cross_val_score(RF, X_train, y_train, cv= 10)\n",
        "print(\"Random Forest Classifier accuracy: %0.4f (+/- %0.4f)\" % (scores.mean(), scores.std()*2))"
      ],
      "execution_count": null,
      "outputs": [
        {
          "output_type": "stream",
          "text": [
            "Random Forest Classifier accuracy: 0.8453 (+/- 0.1535)\n"
          ],
          "name": "stdout"
        }
      ]
    },
    {
      "cell_type": "markdown",
      "metadata": {
        "id": "ZGGJ-cQq2JPx"
      },
      "source": [
        "**3. Neural Network**"
      ]
    },
    {
      "cell_type": "code",
      "metadata": {
        "colab": {
          "base_uri": "https://localhost:8080/"
        },
        "id": "kWftrkObEM0C",
        "outputId": "41c16412-8106-4cb4-9237-0c37da9bf4b2"
      },
      "source": [
        "mlp = MLPClassifier(solver='lbfgs', alpha= 1e-5, hidden_layer_sizes=(5,2), random_state=42)\n",
        "NN= mlp.fit(X_train, y_train)\n",
        "scores = cross_val_score(NN, X_train, y_train, cv= 10)\n",
        "print(\"Neural Network accuracy: %0.4f (+/- %0.4f)\" % (scores.mean(), scores.std()*2))"
      ],
      "execution_count": null,
      "outputs": [
        {
          "output_type": "stream",
          "text": [
            "Neural Network accuracy: 0.7029 (+/- 0.0253)\n"
          ],
          "name": "stdout"
        }
      ]
    },
    {
      "cell_type": "markdown",
      "metadata": {
        "id": "S9zsfzOy2QzY"
      },
      "source": [
        "# Fine tuning for better accuracy"
      ]
    },
    {
      "cell_type": "markdown",
      "metadata": {
        "id": "dN1fQHo82TwQ"
      },
      "source": [
        "Logistic Regression with Grid Search\n"
      ]
    },
    {
      "cell_type": "code",
      "metadata": {
        "colab": {
          "base_uri": "https://localhost:8080/"
        },
        "id": "EyxASUvQ97P4",
        "outputId": "8448e303-0274-4c20-a74b-e63278e214f4"
      },
      "source": [
        "param_grid = [\n",
        "    {'C': [1,10,20, 30],\n",
        "     'intercept_scaling':[1.0, 5.0]}\n",
        "  ]\n",
        "\n",
        "clf_grid = LogisticRegression(random_state=0, solver='liblinear', max_iter= 1000)\n",
        "grid_search = GridSearchCV(clf_grid, param_grid, cv=5,\n",
        "                           scoring='accuracy', return_train_score=True)\n",
        "grid_search.fit(X_train, y_train)\n",
        "\n",
        "grid_search.best_params_\n",
        "grid_search.best_estimator_\n",
        "final_modal = grid_search.best_estimator_\n",
        "print(\"Logistic regression with grid search accuracy: %0.4f\" % final_modal.score(X_train, y_train))"
      ],
      "execution_count": null,
      "outputs": [
        {
          "output_type": "stream",
          "text": [
            "Logistic regression with grid search accuracy: 0.8745\n"
          ],
          "name": "stdout"
        }
      ]
    },
    {
      "cell_type": "markdown",
      "metadata": {
        "id": "qPzAqNAv_mJF"
      },
      "source": [
        "# ROC curve"
      ]
    },
    {
      "cell_type": "code",
      "metadata": {
        "colab": {
          "base_uri": "https://localhost:8080/",
          "height": 325
        },
        "id": "B5KHoEVn_tRc",
        "outputId": "2aaa3fc2-8849-4b6c-a1a2-165fd1653ee3"
      },
      "source": [
        "lrc_disp = plot_roc_curve(final_modal, X_test, y_test)\n",
        "lr_disp = plot_roc_curve(clf, X_test, y_test, ax = lrc_disp.ax_)\n",
        "rfc_disp = plot_roc_curve(RF, X_test, y_test, ax = lrc_disp.ax_)\n",
        "nn_disp = plot_roc_curve(NN, X_test, y_test, ax = lrc_disp.ax_)\n",
        "lrc_disp.figure_.suptitle('ROC curve for different classifiers')"
      ],
      "execution_count": null,
      "outputs": [
        {
          "output_type": "execute_result",
          "data": {
            "text/plain": [
              "Text(0.5, 0.98, 'ROC curve for different classifiers')"
            ]
          },
          "metadata": {
            "tags": []
          },
          "execution_count": 72
        },
        {
          "output_type": "display_data",
          "data": {
            "image/png": "[encoded data removed]",
            "text/plain": [
              "<Figure size 432x288 with 1 Axes>"
            ]
          },
          "metadata": {
            "tags": [],
            "needs_background": "light"
          }
        }
      ]
    },
    {
      "cell_type": "markdown",
      "metadata": {
        "id": "7IiGPeG4nVrP"
      },
      "source": [
        "From the ROC curve and from the ML classifiers we used, logistic regression with grid search is the most accurate one. Hence we will be using that for our testing model"
      ]
    },
    {
      "cell_type": "markdown",
      "metadata": {
        "id": "DeR7VOfxnp-e"
      },
      "source": [
        "# Testing the best model and conclusion"
      ]
    },
    {
      "cell_type": "code",
      "metadata": {
        "colab": {
          "base_uri": "https://localhost:8080/",
          "height": 502
        },
        "id": "K8DBpN_Rnpgn",
        "outputId": "27e8a95b-fede-477e-9dff-47d5ff623701"
      },
      "source": [
        "model = grid_search.fit(X_train, y_train)\n",
        "y_pred = model.predict(X_test)\n",
        "print(classification_report(y_test, y_pred))\n",
        "print(\"Confusion matrix:\")\n",
        "print(metrics.confusion_matrix(y_test,y_pred))\n",
        "sns.heatmap(confusion_matrix(y_test,y_pred), annot=True)\n",
        "plt.title('Heatmap of confusion matrix')"
      ],
      "execution_count": null,
      "outputs": [
        {
          "output_type": "stream",
          "text": [
            "              precision    recall  f1-score   support\n",
            "\n",
            "           0       0.76      0.97      0.85        35\n",
            "           1       0.93      0.56      0.70        25\n",
            "\n",
            "    accuracy                           0.80        60\n",
            "   macro avg       0.84      0.77      0.78        60\n",
            "weighted avg       0.83      0.80      0.79        60\n",
            "\n",
            "Confusion matrix:\n",
            "[[34  1]\n",
            " [11 14]]\n"
          ],
          "name": "stdout"
        },
        {
          "output_type": "execute_result",
          "data": {
            "text/plain": [
              "Text(0.5, 1.0, 'Heatmap of confusion matrix')"
            ]
          },
          "metadata": {
            "tags": []
          },
          "execution_count": 73
        },
        {
          "output_type": "display_data",
          "data": {
            "image/png": "[encoded data removed]",
            "text/plain": [
              "<Figure size 432x288 with 2 Axes>"
            ]
          },
          "metadata": {
            "tags": [],
            "needs_background": "light"
          }
        }
      ]
    },
    {
      "cell_type": "code",
      "metadata": {
        "colab": {
          "base_uri": "https://localhost:8080/",
          "height": 1000
        },
        "id": "kyXqwbYf2kIH",
        "outputId": "748ec175-54b3-4a3d-fc83-235d95afac0f"
      },
      "source": [
        "pd.DataFrame({'Actual':list(y_test),'Predicted':list(y_pred)})"
      ],
      "execution_count": null,
      "outputs": [
        {
          "output_type": "execute_result",
          "data": {
            "text/html": [
              "<div>\n",
              "<style scoped>\n",
              "    .dataframe tbody tr th:only-of-type {\n",
              "        vertical-align: middle;\n",
              "    }\n",
              "\n",
              "    .dataframe tbody tr th {\n",
              "        vertical-align: top;\n",
              "    }\n",
              "\n",
              "    .dataframe thead th {\n",
              "        text-align: right;\n",
              "    }\n",
              "</style>\n",
              "<table border=\"1\" class=\"dataframe\">\n",
              "  <thead>\n",
              "    <tr style=\"text-align: right;\">\n",
              "      <th></th>\n",
              "      <th>Actual</th>\n",
              "      <th>Predicted</th>\n",
              "    </tr>\n",
              "  </thead>\n",
              "  <tbody>\n",
              "    <tr>\n",
              "      <th>0</th>\n",
              "      <td>0</td>\n",
              "      <td>0</td>\n",
              "    </tr>\n",
              "    <tr>\n",
              "      <th>1</th>\n",
              "      <td>0</td>\n",
              "      <td>0</td>\n",
              "    </tr>\n",
              "    <tr>\n",
              "      <th>2</th>\n",
              "      <td>1</td>\n",
              "      <td>0</td>\n",
              "    </tr>\n",
              "    <tr>\n",
              "      <th>3</th>\n",
              "      <td>1</td>\n",
              "      <td>1</td>\n",
              "    </tr>\n",
              "    <tr>\n",
              "      <th>4</th>\n",
              "      <td>0</td>\n",
              "      <td>0</td>\n",
              "    </tr>\n",
              "    <tr>\n",
              "      <th>5</th>\n",
              "      <td>0</td>\n",
              "      <td>0</td>\n",
              "    </tr>\n",
              "    <tr>\n",
              "      <th>6</th>\n",
              "      <td>1</td>\n",
              "      <td>1</td>\n",
              "    </tr>\n",
              "    <tr>\n",
              "      <th>7</th>\n",
              "      <td>0</td>\n",
              "      <td>0</td>\n",
              "    </tr>\n",
              "    <tr>\n",
              "      <th>8</th>\n",
              "      <td>1</td>\n",
              "      <td>1</td>\n",
              "    </tr>\n",
              "    <tr>\n",
              "      <th>9</th>\n",
              "      <td>0</td>\n",
              "      <td>0</td>\n",
              "    </tr>\n",
              "    <tr>\n",
              "      <th>10</th>\n",
              "      <td>0</td>\n",
              "      <td>0</td>\n",
              "    </tr>\n",
              "    <tr>\n",
              "      <th>11</th>\n",
              "      <td>1</td>\n",
              "      <td>0</td>\n",
              "    </tr>\n",
              "    <tr>\n",
              "      <th>12</th>\n",
              "      <td>1</td>\n",
              "      <td>0</td>\n",
              "    </tr>\n",
              "    <tr>\n",
              "      <th>13</th>\n",
              "      <td>0</td>\n",
              "      <td>0</td>\n",
              "    </tr>\n",
              "    <tr>\n",
              "      <th>14</th>\n",
              "      <td>0</td>\n",
              "      <td>0</td>\n",
              "    </tr>\n",
              "    <tr>\n",
              "      <th>15</th>\n",
              "      <td>1</td>\n",
              "      <td>1</td>\n",
              "    </tr>\n",
              "    <tr>\n",
              "      <th>16</th>\n",
              "      <td>0</td>\n",
              "      <td>0</td>\n",
              "    </tr>\n",
              "    <tr>\n",
              "      <th>17</th>\n",
              "      <td>0</td>\n",
              "      <td>0</td>\n",
              "    </tr>\n",
              "    <tr>\n",
              "      <th>18</th>\n",
              "      <td>1</td>\n",
              "      <td>0</td>\n",
              "    </tr>\n",
              "    <tr>\n",
              "      <th>19</th>\n",
              "      <td>1</td>\n",
              "      <td>0</td>\n",
              "    </tr>\n",
              "    <tr>\n",
              "      <th>20</th>\n",
              "      <td>0</td>\n",
              "      <td>0</td>\n",
              "    </tr>\n",
              "    <tr>\n",
              "      <th>21</th>\n",
              "      <td>0</td>\n",
              "      <td>0</td>\n",
              "    </tr>\n",
              "    <tr>\n",
              "      <th>22</th>\n",
              "      <td>0</td>\n",
              "      <td>0</td>\n",
              "    </tr>\n",
              "    <tr>\n",
              "      <th>23</th>\n",
              "      <td>1</td>\n",
              "      <td>1</td>\n",
              "    </tr>\n",
              "    <tr>\n",
              "      <th>24</th>\n",
              "      <td>1</td>\n",
              "      <td>1</td>\n",
              "    </tr>\n",
              "    <tr>\n",
              "      <th>25</th>\n",
              "      <td>0</td>\n",
              "      <td>0</td>\n",
              "    </tr>\n",
              "    <tr>\n",
              "      <th>26</th>\n",
              "      <td>0</td>\n",
              "      <td>0</td>\n",
              "    </tr>\n",
              "    <tr>\n",
              "      <th>27</th>\n",
              "      <td>0</td>\n",
              "      <td>0</td>\n",
              "    </tr>\n",
              "    <tr>\n",
              "      <th>28</th>\n",
              "      <td>1</td>\n",
              "      <td>0</td>\n",
              "    </tr>\n",
              "    <tr>\n",
              "      <th>29</th>\n",
              "      <td>0</td>\n",
              "      <td>0</td>\n",
              "    </tr>\n",
              "    <tr>\n",
              "      <th>30</th>\n",
              "      <td>1</td>\n",
              "      <td>1</td>\n",
              "    </tr>\n",
              "    <tr>\n",
              "      <th>31</th>\n",
              "      <td>0</td>\n",
              "      <td>0</td>\n",
              "    </tr>\n",
              "    <tr>\n",
              "      <th>32</th>\n",
              "      <td>0</td>\n",
              "      <td>1</td>\n",
              "    </tr>\n",
              "    <tr>\n",
              "      <th>33</th>\n",
              "      <td>1</td>\n",
              "      <td>1</td>\n",
              "    </tr>\n",
              "    <tr>\n",
              "      <th>34</th>\n",
              "      <td>1</td>\n",
              "      <td>1</td>\n",
              "    </tr>\n",
              "    <tr>\n",
              "      <th>35</th>\n",
              "      <td>1</td>\n",
              "      <td>0</td>\n",
              "    </tr>\n",
              "    <tr>\n",
              "      <th>36</th>\n",
              "      <td>1</td>\n",
              "      <td>0</td>\n",
              "    </tr>\n",
              "    <tr>\n",
              "      <th>37</th>\n",
              "      <td>1</td>\n",
              "      <td>0</td>\n",
              "    </tr>\n",
              "    <tr>\n",
              "      <th>38</th>\n",
              "      <td>0</td>\n",
              "      <td>0</td>\n",
              "    </tr>\n",
              "    <tr>\n",
              "      <th>39</th>\n",
              "      <td>0</td>\n",
              "      <td>0</td>\n",
              "    </tr>\n",
              "    <tr>\n",
              "      <th>40</th>\n",
              "      <td>1</td>\n",
              "      <td>1</td>\n",
              "    </tr>\n",
              "    <tr>\n",
              "      <th>41</th>\n",
              "      <td>1</td>\n",
              "      <td>1</td>\n",
              "    </tr>\n",
              "    <tr>\n",
              "      <th>42</th>\n",
              "      <td>0</td>\n",
              "      <td>0</td>\n",
              "    </tr>\n",
              "    <tr>\n",
              "      <th>43</th>\n",
              "      <td>0</td>\n",
              "      <td>0</td>\n",
              "    </tr>\n",
              "    <tr>\n",
              "      <th>44</th>\n",
              "      <td>0</td>\n",
              "      <td>0</td>\n",
              "    </tr>\n",
              "    <tr>\n",
              "      <th>45</th>\n",
              "      <td>0</td>\n",
              "      <td>0</td>\n",
              "    </tr>\n",
              "    <tr>\n",
              "      <th>46</th>\n",
              "      <td>0</td>\n",
              "      <td>0</td>\n",
              "    </tr>\n",
              "    <tr>\n",
              "      <th>47</th>\n",
              "      <td>0</td>\n",
              "      <td>0</td>\n",
              "    </tr>\n",
              "    <tr>\n",
              "      <th>48</th>\n",
              "      <td>0</td>\n",
              "      <td>0</td>\n",
              "    </tr>\n",
              "    <tr>\n",
              "      <th>49</th>\n",
              "      <td>0</td>\n",
              "      <td>0</td>\n",
              "    </tr>\n",
              "    <tr>\n",
              "      <th>50</th>\n",
              "      <td>1</td>\n",
              "      <td>0</td>\n",
              "    </tr>\n",
              "    <tr>\n",
              "      <th>51</th>\n",
              "      <td>1</td>\n",
              "      <td>0</td>\n",
              "    </tr>\n",
              "    <tr>\n",
              "      <th>52</th>\n",
              "      <td>1</td>\n",
              "      <td>1</td>\n",
              "    </tr>\n",
              "    <tr>\n",
              "      <th>53</th>\n",
              "      <td>0</td>\n",
              "      <td>0</td>\n",
              "    </tr>\n",
              "    <tr>\n",
              "      <th>54</th>\n",
              "      <td>0</td>\n",
              "      <td>0</td>\n",
              "    </tr>\n",
              "    <tr>\n",
              "      <th>55</th>\n",
              "      <td>0</td>\n",
              "      <td>0</td>\n",
              "    </tr>\n",
              "    <tr>\n",
              "      <th>56</th>\n",
              "      <td>0</td>\n",
              "      <td>0</td>\n",
              "    </tr>\n",
              "    <tr>\n",
              "      <th>57</th>\n",
              "      <td>1</td>\n",
              "      <td>1</td>\n",
              "    </tr>\n",
              "    <tr>\n",
              "      <th>58</th>\n",
              "      <td>0</td>\n",
              "      <td>0</td>\n",
              "    </tr>\n",
              "    <tr>\n",
              "      <th>59</th>\n",
              "      <td>1</td>\n",
              "      <td>1</td>\n",
              "    </tr>\n",
              "  </tbody>\n",
              "</table>\n",
              "</div>"
            ],
            "text/plain": [
              "    Actual  Predicted\n",
              "0        0          0\n",
              "1        0          0\n",
              "2        1          0\n",
              "3        1          1\n",
              "4        0          0\n",
              "5        0          0\n",
              "6        1          1\n",
              "7        0          0\n",
              "8        1          1\n",
              "9        0          0\n",
              "10       0          0\n",
              "11       1          0\n",
              "12       1          0\n",
              "13       0          0\n",
              "14       0          0\n",
              "15       1          1\n",
              "16       0          0\n",
              "17       0          0\n",
              "18       1          0\n",
              "19       1          0\n",
              "20       0          0\n",
              "21       0          0\n",
              "22       0          0\n",
              "23       1          1\n",
              "24       1          1\n",
              "25       0          0\n",
              "26       0          0\n",
              "27       0          0\n",
              "28       1          0\n",
              "29       0          0\n",
              "30       1          1\n",
              "31       0          0\n",
              "32       0          1\n",
              "33       1          1\n",
              "34       1          1\n",
              "35       1          0\n",
              "36       1          0\n",
              "37       1          0\n",
              "38       0          0\n",
              "39       0          0\n",
              "40       1          1\n",
              "41       1          1\n",
              "42       0          0\n",
              "43       0          0\n",
              "44       0          0\n",
              "45       0          0\n",
              "46       0          0\n",
              "47       0          0\n",
              "48       0          0\n",
              "49       0          0\n",
              "50       1          0\n",
              "51       1          0\n",
              "52       1          1\n",
              "53       0          0\n",
              "54       0          0\n",
              "55       0          0\n",
              "56       0          0\n",
              "57       1          1\n",
              "58       0          0\n",
              "59       1          1"
            ]
          },
          "metadata": {
            "tags": []
          },
          "execution_count": 74
        }
      ]
    },
    {
      "cell_type": "code",
      "metadata": {
        "colab": {
          "base_uri": "https://localhost:8080/"
        },
        "id": "kOou-HVG3z7z",
        "outputId": "ccefb263-06b1-4831-b6ea-cdf042a56f8c"
      },
      "source": [
        "from sklearn.metrics import accuracy_score,f1_score\n",
        "print(\"Accuracy : \",accuracy_score(y_test,y_pred)*100,\"%\")"
      ],
      "execution_count": null,
      "outputs": [
        {
          "output_type": "stream",
          "text": [
            "Accuracy :  80.0 %\n"
          ],
          "name": "stdout"
        }
      ]
    },
    {
      "cell_type": "markdown",
      "metadata": {
        "id": "c8tKOQhMzb6Q"
      },
      "source": [
        "### **Conclusion:** Classification model based on the features for the prediction of death event for heart patients has been done with accuracy an 80% \n",
        " "
      ]
    },
    {
      "cell_type": "markdown",
      "metadata": {
        "id": "CT9gZPHxIUXR"
      },
      "source": [
        "Link for video presentation given here\n",
        "https://youtu.be/-_GPVXUSzLY "
      ]
    }
  ]
}